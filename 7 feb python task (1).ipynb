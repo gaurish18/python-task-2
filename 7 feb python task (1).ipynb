{
 "cells": [
  {
   "cell_type": "code",
   "execution_count": 1,
   "id": "b3a67a08-09d1-47af-a893-5542b4db8114",
   "metadata": {},
   "outputs": [
    {
     "name": "stdout",
     "output_type": "stream",
     "text": [
      "Invalid Password\n"
     ]
    }
   ],
   "source": [
    "import re\n",
    "\n",
    "def check_password_validity(password):\n",
    "    # Check the length of the password\n",
    "    if len(password) != 10:\n",
    "        return \"Invalid Password\"\n",
    "    \n",
    "    # Count the number of uppercase and lowercase letters\n",
    "    uppercase_count = len([c for c in password if c.isupper()])\n",
    "    lowercase_count = len([c for c in password if c.islower()])\n",
    "    \n",
    "    # Count the number of digits and special characters using regular expressions\n",
    "    digit_count = len(re.findall(r'\\d', password))\n",
    "    special_char_count = len(re.findall(r'[!@#$%^&*()_+]', password))\n",
    "    \n",
    "    # Check if all conditions are met\n",
    "    if (uppercase_count >= 2 and lowercase_count >= 2 and\n",
    "        digit_count >= 1 and special_char_count >= 3):\n",
    "        return \"Valid Password\"\n",
    "    else:\n",
    "        return \"Invalid Password\"\n",
    "\n",
    "# Example usage:\n",
    "password = \"P@ssw0rd1!\"\n",
    "result = check_password_validity(password)\n",
    "print(result)\n"
   ]
  },
  {
   "cell_type": "code",
   "execution_count": null,
   "id": "53de1b56-3120-400b-8750-c1b18b3529c0",
   "metadata": {},
   "outputs": [],
   "source": []
  },
  {
   "cell_type": "code",
   "execution_count": 4,
   "id": "e91a90d7-55eb-4989-a5bf-9708a994fee5",
   "metadata": {},
   "outputs": [],
   "source": [
    "#Check if the string starts with a particular letter,Using a lambda function and the filter function:"
   ]
  },
  {
   "cell_type": "code",
   "execution_count": 5,
   "id": "3c043482-790f-4a49-955c-ae8dd09757f9",
   "metadata": {},
   "outputs": [
    {
     "name": "stdout",
     "output_type": "stream",
     "text": [
      "['apple']\n"
     ]
    }
   ],
   "source": [
    "strings = [\"apple\", \"banana\", \"cherry\", \"date\"]\n",
    "letter_to_check = \"a\"\n",
    "result = list(filter(lambda s: s.startswith(letter_to_check), strings))\n",
    "print(result)"
   ]
  },
  {
   "cell_type": "code",
   "execution_count": 10,
   "id": "de999a93-c38e-43fe-8426-a9437433acb9",
   "metadata": {},
   "outputs": [],
   "source": [
    "#Check if the string is numeric,Using a lambda function and the filter function:"
   ]
  },
  {
   "cell_type": "code",
   "execution_count": 11,
   "id": "6cfd48e4-a8f5-455a-8acb-f69c9a596b09",
   "metadata": {},
   "outputs": [
    {
     "name": "stdout",
     "output_type": "stream",
     "text": [
      "['123', '789']\n"
     ]
    }
   ],
   "source": [
    "strings = [\"123\", \"abc\", \"45.67\", \"789\"]\n",
    "result = list(filter(lambda s: s.isnumeric(), strings))\n",
    "print(result)\n"
   ]
  },
  {
   "cell_type": "code",
   "execution_count": 14,
   "id": "572600bb-d47a-4b7e-bec9-7d7f48fa8245",
   "metadata": {},
   "outputs": [],
   "source": [
    "#Sort a list of tuples with fruit names and their quantity,Using the sorted function and a lambda function:"
   ]
  },
  {
   "cell_type": "code",
   "execution_count": 15,
   "id": "4a8f9036-c1f7-459a-b0a6-165e357ea9c2",
   "metadata": {},
   "outputs": [
    {
     "name": "stdout",
     "output_type": "stream",
     "text": [
      "[('orange', 80), ('mango', 99), ('grapes', 1000)]\n"
     ]
    }
   ],
   "source": [
    "fruits = [(\"mango\", 99), (\"orange\", 80), (\"grapes\", 1000)]\n",
    "sorted_fruits = sorted(fruits, key=lambda x: x[1])\n",
    "print(sorted_fruits)\n"
   ]
  },
  {
   "cell_type": "code",
   "execution_count": 16,
   "id": "d57ca683-ca33-4d33-8837-3fff8fd4449c",
   "metadata": {},
   "outputs": [],
   "source": [
    "#Find the squares of numbers from 1 to 10,Using a list comprehension:"
   ]
  },
  {
   "cell_type": "code",
   "execution_count": 20,
   "id": "bacb7ddf-b52f-4c40-b80b-fbfaed384cd8",
   "metadata": {},
   "outputs": [
    {
     "name": "stdout",
     "output_type": "stream",
     "text": [
      "[1, 4, 9, 16, 25, 36, 49, 64, 81, 100]\n"
     ]
    }
   ],
   "source": [
    "square=[x**2 for x in range (1,11)]\n",
    "print(square) "
   ]
  },
  {
   "cell_type": "code",
   "execution_count": 21,
   "id": "f7aaec0b-da93-477b-9feb-c260474e6d54",
   "metadata": {},
   "outputs": [],
   "source": [
    "#Find the cube root of numbers from 1 to 10,Using a list comprehension and the math module:"
   ]
  },
  {
   "cell_type": "code",
   "execution_count": 22,
   "id": "2a359a65-f6ac-4804-8bf8-9cb16d39df7d",
   "metadata": {},
   "outputs": [
    {
     "name": "stdout",
     "output_type": "stream",
     "text": [
      "[1.0, 1.2599210498948732, 1.4422495703074083, 1.5874010519681994, 1.7099759466766968, 1.8171205928321397, 1.912931182772389, 2.0, 2.080083823051904, 2.154434690031884]\n"
     ]
    }
   ],
   "source": [
    "import math\n",
    "cuberoots = [math.pow(x, 1/3) for x in range(1, 11)]\n",
    "print(cuberoots)\n"
   ]
  },
  {
   "cell_type": "code",
   "execution_count": 23,
   "id": "5389d9ae-f160-4f31-9f07-82fe9fa4be5b",
   "metadata": {},
   "outputs": [],
   "source": [
    "#Check if a given number is even,Using a lambda function and the filter function:"
   ]
  },
  {
   "cell_type": "code",
   "execution_count": 24,
   "id": "7c5dd1da-7038-437b-a8cc-0542f2d65745",
   "metadata": {},
   "outputs": [
    {
     "name": "stdout",
     "output_type": "stream",
     "text": [
      "[2, 4, 6, 8, 10]\n"
     ]
    }
   ],
   "source": [
    "numbers = [1, 2, 3, 4, 5, 6, 7, 8, 9, 10]\n",
    "even_numbers = list(filter(lambda x: x % 2 == 0, numbers))\n",
    "print(even_numbers)\n"
   ]
  },
  {
   "cell_type": "code",
   "execution_count": 26,
   "id": "539bc4ff-a9e9-4262-b3b8-57d3e425be5a",
   "metadata": {},
   "outputs": [],
   "source": [
    "#Filter odd numbers from the given list,Using a lambda function and the filter function:"
   ]
  },
  {
   "cell_type": "code",
   "execution_count": 25,
   "id": "540cb242-7f5c-42aa-8ea8-35de61f0823f",
   "metadata": {},
   "outputs": [
    {
     "name": "stdout",
     "output_type": "stream",
     "text": [
      "[1, 3, 5, 7, 9]\n"
     ]
    }
   ],
   "source": [
    "numbers = [1, 2, 3, 4, 5, 6, 7, 8, 9, 10]\n",
    "odd_numbers = list(filter(lambda x: x % 2 != 0, numbers))\n",
    "print(odd_numbers)"
   ]
  },
  {
   "cell_type": "code",
   "execution_count": 27,
   "id": "503a366b-c2bd-4e42-9513-5c41ee982422",
   "metadata": {},
   "outputs": [],
   "source": [
    "#Sort a list of integers into positive and negative integers lists,Using a list comprehension:"
   ]
  },
  {
   "cell_type": "code",
   "execution_count": 28,
   "id": "d1f1c5e8-38e3-4ed5-b36d-087cba5ee6ec",
   "metadata": {},
   "outputs": [
    {
     "name": "stdout",
     "output_type": "stream",
     "text": [
      "Positive Numbers: [1, 2, 3, 4, 5, 6]\n",
      "Negative Numbers: [-1, -2, -3, -4, -5]\n"
     ]
    }
   ],
   "source": [
    "numbers = [1, 2, 3, 4, 5, 6, -1, -2, -3, -4, -5, 0]\n",
    "positive_numbers = [x for x in numbers if x > 0]\n",
    "negative_numbers = [x for x in numbers if x < 0]\n",
    "print(\"Positive Numbers:\", positive_numbers)\n",
    "print(\"Negative Numbers:\", negative_numbers)\n"
   ]
  },
  {
   "cell_type": "code",
   "execution_count": null,
   "id": "71929acc-fdee-49a6-9649-2d10468f4577",
   "metadata": {},
   "outputs": [],
   "source": []
  }
 ],
 "metadata": {
  "kernelspec": {
   "display_name": "Python 3 (ipykernel)",
   "language": "python",
   "name": "python3"
  },
  "language_info": {
   "codemirror_mode": {
    "name": "ipython",
    "version": 3
   },
   "file_extension": ".py",
   "mimetype": "text/x-python",
   "name": "python",
   "nbconvert_exporter": "python",
   "pygments_lexer": "ipython3",
   "version": "3.10.8"
  }
 },
 "nbformat": 4,
 "nbformat_minor": 5
}
